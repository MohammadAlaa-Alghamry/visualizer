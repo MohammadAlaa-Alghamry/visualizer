{
 "cells": [
  {
   "cell_type": "code",
   "execution_count": 26,
   "metadata": {
    "tags": []
   },
   "outputs": [],
   "source": [
    "import pandas as pd\n",
    "import numpy as np\n",
    "import random"
   ]
  },
  {
   "cell_type": "code",
   "execution_count": 27,
   "metadata": {
    "tags": []
   },
   "outputs": [
    {
     "data": {
      "text/html": [
       "<div>\n",
       "<style scoped>\n",
       "    .dataframe tbody tr th:only-of-type {\n",
       "        vertical-align: middle;\n",
       "    }\n",
       "\n",
       "    .dataframe tbody tr th {\n",
       "        vertical-align: top;\n",
       "    }\n",
       "\n",
       "    .dataframe thead th {\n",
       "        text-align: right;\n",
       "    }\n",
       "</style>\n",
       "<table border=\"1\" class=\"dataframe\">\n",
       "  <thead>\n",
       "    <tr style=\"text-align: right;\">\n",
       "      <th></th>\n",
       "      <th>debit</th>\n",
       "      <th>credit</th>\n",
       "      <th>acc_name</th>\n",
       "    </tr>\n",
       "  </thead>\n",
       "  <tbody>\n",
       "    <tr>\n",
       "      <th>0</th>\n",
       "      <td>7982.0</td>\n",
       "      <td>NaN</td>\n",
       "      <td>mail-order</td>\n",
       "    </tr>\n",
       "    <tr>\n",
       "      <th>1</th>\n",
       "      <td>5270.0</td>\n",
       "      <td>NaN</td>\n",
       "      <td>warehousing</td>\n",
       "    </tr>\n",
       "    <tr>\n",
       "      <th>2</th>\n",
       "      <td>41900.0</td>\n",
       "      <td>NaN</td>\n",
       "      <td>food</td>\n",
       "    </tr>\n",
       "  </tbody>\n",
       "</table>\n",
       "</div>"
      ],
      "text/plain": [
       "     debit  credit     acc_name\n",
       "0   7982.0     NaN   mail-order\n",
       "1   5270.0     NaN  warehousing\n",
       "2  41900.0     NaN         food"
      ]
     },
     "execution_count": 27,
     "metadata": {},
     "output_type": "execute_result"
    }
   ],
   "source": [
    "filename = 'expenses_test.csv' # please specify your file name here\n",
    "df = pd.read_csv(filename)\n",
    "df = df.loc[:, :'acc_name']\n",
    "df.head(3)"
   ]
  },
  {
   "cell_type": "code",
   "execution_count": 28,
   "metadata": {},
   "outputs": [],
   "source": [
    "expenses_string = \"acessories accommodation accounting administrative advertising agents \\\n",
    "allied amortization apparel appliance arts assistance benefits bes beverage book brokerage brokers \\\n",
    "building business care chemical civic clothing commerce commercial commissions commodity \\\n",
    "computer construction contracts couriers dealers depreciation design distilled druggists drugs \\\n",
    "durable electrical electronic electronics entertainment equipment expenditures expense expenses farm fees \\\n",
    "food furnishing furnishings furniture garden gasoline general goods grantmaking grocery hardware health heating \\\n",
    "hobby home houses industries information insurance intermediation leasing legal license lumber machinery mail-order \\\n",
    "maintenance management manufacturing markets material materials merchandise merchant messengers metal mineral mining \\\n",
    "motor music nation nondurable nonstore notions online operating paper parts payroll peripheral personal petroleum \\\n",
    "plumbing product products professional raw recreation related religious remediation rental \\\n",
    "repair retail retailers revenue sales securities service services shipments shopping \\\n",
    "social software sold sporting stations statistics storage store stores sundries supplies \\\n",
    "support systems taxes trade transportation u-s utilities value vehicle warehousing waste wholesale wholesalers\""
   ]
  },
  {
   "cell_type": "code",
   "execution_count": 29,
   "metadata": {
    "tags": []
   },
   "outputs": [
    {
     "data": {
      "text/plain": [
       "0          acessories\n",
       "1       accommodation\n",
       "2          accounting\n",
       "3      administrative\n",
       "4         advertising\n",
       "            ...      \n",
       "140           vehicle\n",
       "141       warehousing\n",
       "142             waste\n",
       "143         wholesale\n",
       "144       wholesalers\n",
       "Length: 145, dtype: object"
      ]
     },
     "execution_count": 29,
     "metadata": {},
     "output_type": "execute_result"
    }
   ],
   "source": [
    "expenses_string = pd.Series(expenses_string.split(' '))\n",
    "expenses_string"
   ]
  },
  {
   "cell_type": "code",
   "execution_count": 36,
   "metadata": {},
   "outputs": [],
   "source": [
    "#selector = np.random.randint(0, len(expenses_string), len(df.acc_name))\n",
    "#selector =  np.random.random_sample(len(df.acc_name))\n",
    "selector = random.sample(range(0, len(df.acc_name)), len(df.acc_name))\n",
    "acc_names = expenses_string[selector].tolist()"
   ]
  },
  {
   "cell_type": "code",
   "execution_count": 37,
   "metadata": {},
   "outputs": [
    {
     "data": {
      "text/plain": [
       "['book',\n",
       " 'appliance',\n",
       " 'administrative',\n",
       " 'assistance',\n",
       " 'amortization',\n",
       " 'accounting',\n",
       " 'bes',\n",
       " 'beverage',\n",
       " 'acessories',\n",
       " 'advertising',\n",
       " 'building',\n",
       " 'brokers',\n",
       " 'accommodation',\n",
       " 'brokerage',\n",
       " 'arts',\n",
       " 'benefits',\n",
       " 'apparel',\n",
       " 'agents',\n",
       " 'allied']"
      ]
     },
     "execution_count": 37,
     "metadata": {},
     "output_type": "execute_result"
    }
   ],
   "source": [
    "acc_names"
   ]
  },
  {
   "cell_type": "code",
   "execution_count": 38,
   "metadata": {},
   "outputs": [],
   "source": [
    "df.acc_name = acc_names"
   ]
  },
  {
   "cell_type": "code",
   "execution_count": 39,
   "metadata": {},
   "outputs": [
    {
     "data": {
      "text/plain": [
       "False"
      ]
     },
     "execution_count": 39,
     "metadata": {},
     "output_type": "execute_result"
    }
   ],
   "source": [
    "df.acc_name.duplicated().any()"
   ]
  },
  {
   "cell_type": "code",
   "execution_count": 40,
   "metadata": {
    "tags": []
   },
   "outputs": [],
   "source": [
    "df.to_csv(path_or_buf='expenses_test.csv', index=False)"
   ]
  },
  {
   "cell_type": "code",
   "execution_count": null,
   "metadata": {},
   "outputs": [],
   "source": []
  }
 ],
 "metadata": {
  "kernelspec": {
   "display_name": "Python 3",
   "language": "python",
   "name": "python3"
  },
  "language_info": {
   "codemirror_mode": {
    "name": "ipython",
    "version": 3
   },
   "file_extension": ".py",
   "mimetype": "text/x-python",
   "name": "python",
   "nbconvert_exporter": "python",
   "pygments_lexer": "ipython3",
   "version": "3.9.0"
  }
 },
 "nbformat": 4,
 "nbformat_minor": 4
}
